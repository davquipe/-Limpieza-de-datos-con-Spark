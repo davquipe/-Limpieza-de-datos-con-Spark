{
 "cells": [
  {
   "cell_type": "code",
   "execution_count": 1,
   "metadata": {
    "scrolled": true
   },
   "outputs": [
    {
     "data": {
      "text/plain": [
       "'2.4.5'"
      ]
     },
     "execution_count": 1,
     "metadata": {},
     "output_type": "execute_result"
    }
   ],
   "source": [
    "sc.version"
   ]
  },
  {
   "cell_type": "code",
   "execution_count": 2,
   "metadata": {},
   "outputs": [
    {
     "name": "stdout",
     "output_type": "stream",
     "text": [
      "root\n",
      " |-- HHID: string (nullable = true)\n",
      " |-- CASEID: string (nullable = true)\n",
      " |-- V013: double (nullable = true)\n",
      " |-- V015: double (nullable = true)\n",
      " |-- V020: double (nullable = true)\n",
      " |-- V101: double (nullable = true)\n",
      " |-- V102: double (nullable = true)\n",
      " |-- V103: double (nullable = true)\n",
      " |-- V131: double (nullable = true)\n",
      " |-- V136: double (nullable = true)\n",
      " |-- V149: double (nullable = true)\n",
      " |-- V155: double (nullable = true)\n",
      " |-- V022: double (nullable = true)\n",
      " |-- V005: double (nullable = true)\n",
      " |-- V190: double (nullable = true)\n",
      "\n"
     ]
    }
   ],
   "source": [
    "# David\n",
    "df66 = sqlContext.read.format('com.crealytics.spark.excel')\\\n",
    ".options(header='true', inferschema='true')\\\n",
    ".option(\"sheetName\", \"MOD66_2018\")\\\n",
    ".option(\"location\", 'MOD66_2018.xls')\\\n",
    ".option(\"useHeader\", \"true\")\\\n",
    ".option(\"treatEmptyValuesAsNulls\", \"true\")\\\n",
    ".option(\"inferSchema\", \"true\")\\\n",
    ".option(\"addColorColumns\", \"False\")\\\n",
    ".load()\n",
    "df66.printSchema()          "
   ]
  },
  {
   "cell_type": "code",
   "execution_count": 3,
   "metadata": {},
   "outputs": [],
   "source": [
    "#df.toPandas()"
   ]
  },
  {
   "cell_type": "code",
   "execution_count": 4,
   "metadata": {},
   "outputs": [
    {
     "name": "stdout",
     "output_type": "stream",
     "text": [
      "+------------+----+----+----+----+\n",
      "|      CASEID|V013|V101|V102|V103|\n",
      "+------------+----+----+----+----+\n",
      "|000100701  2| 6.0| 1.0| 1.0| 2.0|\n",
      "|000100701  3| 1.0| 1.0| 1.0| 0.0|\n",
      "|000101401  2| 2.0| 1.0| 1.0| 3.0|\n",
      "|000103501  4| 1.0| 1.0| 1.0| 1.0|\n",
      "|000103501  5| 0.0| 1.0| 1.0| 2.0|\n",
      "|000105301  2| 3.0| 1.0| 1.0| 0.0|\n",
      "|000107101  2| 5.0| 1.0| 1.0| 0.0|\n",
      "|000111301  1| 4.0| 1.0| 1.0| 2.0|\n",
      "|000112901  3| 3.0| 1.0| 1.0| 0.0|\n",
      "|000112901  4| 1.0| 1.0| 1.0| 0.0|\n",
      "|000112901  5| 4.0| 1.0| 1.0| 0.0|\n",
      "|000117801  2| 6.0| 1.0| 1.0| 0.0|\n",
      "|000117801  3| 0.0| 1.0| 1.0| 2.0|\n",
      "|000201101  2| 2.0| 1.0| 1.0| 0.0|\n",
      "|000205001  2| 7.0| 1.0| 1.0| 2.0|\n",
      "|000205001  3| 3.0| 1.0| 1.0| 0.0|\n",
      "|000205501  1| 2.0| 1.0| 1.0| 2.0|\n",
      "|000205501  2| 1.0| 1.0| 1.0| 0.0|\n",
      "|000206501  2| 3.0| 1.0| 1.0| 3.0|\n",
      "|000206701  3|null|null|null|null|\n",
      "+------------+----+----+----+----+\n",
      "only showing top 20 rows\n",
      "\n"
     ]
    }
   ],
   "source": [
    "df66.createOrReplaceTempView(\"MOD66_2018\")\n",
    "df66b = spark.sql(\"SELECT CASEID, V013, V101, V102, V103  from MOD66_2018 \") \n",
    "df66b.show()"
   ]
  },
  {
   "cell_type": "code",
   "execution_count": 5,
   "metadata": {},
   "outputs": [
    {
     "name": "stdout",
     "output_type": "stream",
     "text": [
      "root\n",
      " |-- CASEID: string (nullable = true)\n",
      " |-- D104: double (nullable = true)\n",
      " |-- D105A: double (nullable = true)\n",
      " |-- D105B: double (nullable = true)\n",
      " |-- D105C: double (nullable = true)\n",
      " |-- D105D: double (nullable = true)\n",
      " |-- D105E: double (nullable = true)\n",
      " |-- D105F: double (nullable = true)\n",
      " |-- D105G: double (nullable = true)\n",
      " |-- D105H: double (nullable = true)\n",
      " |-- D105I: double (nullable = true)\n",
      " |-- D108: double (nullable = true)\n",
      " |-- D115B: double (nullable = true)\n",
      " |-- D115C: double (nullable = true)\n",
      " |-- D115F: double (nullable = true)\n",
      " |-- D115G: double (nullable = true)\n",
      " |-- D115H: double (nullable = true)\n",
      " |-- D115I: double (nullable = true)\n",
      " |-- D115M: double (nullable = true)\n",
      " |-- D115N: double (nullable = true)\n",
      " |-- D115S: double (nullable = true)\n",
      " |-- D115T: double (nullable = true)\n",
      " |-- D115V: double (nullable = true)\n",
      " |-- D115W: double (nullable = true)\n",
      " |-- D115XA: double (nullable = true)\n",
      " |-- D116: double (nullable = true)\n",
      " |-- D121: double (nullable = true)\n",
      "\n"
     ]
    }
   ],
   "source": [
    "df73 = sqlContext.read.format('com.crealytics.spark.excel')\\\n",
    ".options(header='true', inferschema='true')\\\n",
    ".option(\"sheetName\", \"MOD73_2018\")\\\n",
    ".option(\"location\", 'MOD73_2018.xls')\\\n",
    ".option(\"useHeader\", \"true\")\\\n",
    ".option(\"treatEmptyValuesAsNulls\", \"true\")\\\n",
    ".option(\"inferSchema\", \"true\")\\\n",
    ".option(\"addColorColumns\", \"False\")\\\n",
    ".load()\n",
    "df73.printSchema()"
   ]
  },
  {
   "cell_type": "code",
   "execution_count": 6,
   "metadata": {},
   "outputs": [
    {
     "name": "stdout",
     "output_type": "stream",
     "text": [
      "+------------+-----+-----+\n",
      "|      CASEID|D115B|D115C|\n",
      "+------------+-----+-----+\n",
      "|000100701  2|  0.0|  0.0|\n",
      "|000100701  3| null| null|\n",
      "|000101401  2|  0.0|  0.0|\n",
      "|000103501  4|  0.0|  0.0|\n",
      "|000105301  2|  0.0|  0.0|\n",
      "|000107101  2|  0.0|  0.0|\n",
      "|000111301  1|  0.0|  0.0|\n",
      "|000112901  3| null| null|\n",
      "|000112901  4|  0.0|  0.0|\n",
      "|000112901  5| null| null|\n",
      "|000117801  2|  0.0|  1.0|\n",
      "|000201101  2|  0.0|  0.0|\n",
      "|000205001  2| null| null|\n",
      "|000205001  3|  0.0|  0.0|\n",
      "|000205501  1|  0.0|  0.0|\n",
      "|000205501  2| null| null|\n",
      "|000206501  2|  0.0|  0.0|\n",
      "|000206701  4| null| null|\n",
      "|000206701  5|  0.0|  0.0|\n",
      "|000211701  2|  0.0|  0.0|\n",
      "+------------+-----+-----+\n",
      "only showing top 20 rows\n",
      "\n"
     ]
    }
   ],
   "source": [
    "df73.createOrReplaceTempView(\"MOD73_2018\")\n",
    "df73b = spark.sql(\"SELECT CASEID, D115B, D115C from MOD73_2018 \") \n",
    "df73b.show()"
   ]
  },
  {
   "cell_type": "code",
   "execution_count": 7,
   "metadata": {},
   "outputs": [
    {
     "name": "stdout",
     "output_type": "stream",
     "text": [
      "26976\n",
      "+------------+----+----+----+----+----+----+----+----+----+-----------+-----+\n",
      "|      CASEID|V013|V101|V102|V103|V131|V136|V149|V155|V190|MALTxFATHER|PhisV|\n",
      "+------------+----+----+----+----+----+----+----+----+----+-----------+-----+\n",
      "|000600301  3| 3.0| 1.0| 1.0| 0.0|10.0| 6.0| 5.0| 2.0| 4.0|          0|    0|\n",
      "|001508501  2| 3.0| 1.0| 1.0| 0.0|10.0| 3.0| 5.0| 2.0| 5.0|          0|    0|\n",
      "|002901701  2| 5.0| 1.0| 2.0| 2.0| 4.0| 5.0| 4.0| 2.0| 1.0|          0|    0|\n",
      "|008806001  4| 1.0| 2.0| 1.0| 2.0|10.0| 7.0| 3.0| 2.0| 4.0|          0|    1|\n",
      "|011501501  2| 3.0| 2.0| 2.0| 2.0|10.0| 6.0| 2.0| 2.0| 1.0|          0|    0|\n",
      "|011504101  2| 5.0| 2.0| 2.0| 3.0|10.0| 5.0| 1.0| 2.0| 1.0|          0|    1|\n",
      "|016104501  4| 1.0| 3.0| 2.0| 2.0| 1.0| 7.0| 4.0| 2.0| 1.0|          0|    1|\n",
      "|016411601  2| 3.0| 3.0| 2.0| 0.0|10.0| 5.0| 3.0| 2.0| 2.0|          0|    0|\n",
      "|017200301  1| 4.0| 4.0| 1.0| 0.0|10.0| 4.0| 4.0| 2.0| 3.0|          0|    1|\n",
      "|023410401  2| 2.0| 5.0| 1.0| 3.0|10.0| 3.0| 5.0| 2.0| 2.0|          0|    0|\n",
      "|025509901  2| 5.0| 5.0| 1.0| 1.0|10.0| 4.0| 5.0| 2.0| 4.0|          0|    0|\n",
      "|025702201  1| 2.0| 5.0| 1.0| 3.0|10.0| 3.0| 1.0| 2.0| 1.0|          0|    0|\n",
      "|025709501  2| 5.0| 5.0| 1.0| 2.0| 1.0| 6.0| 4.0| 2.0| 2.0|          0|    0|\n",
      "|029804901  2| 6.0| 6.0| 1.0| 0.0|10.0| 5.0| 3.0| 2.0| 2.0|          0|    0|\n",
      "|034609001  2| 4.0| 6.0| 2.0| 3.0|10.0| 4.0| 1.0| 1.0| 1.0|          0|    0|\n",
      "|035506001  2| 5.0| 7.0| 1.0| 1.0|10.0| 5.0| 3.0| 2.0| 3.0|          0|    1|\n",
      "|035713701  2| 5.0| 7.0| 1.0| 2.0|10.0| 4.0| 4.0| 2.0| 4.0|          1|    1|\n",
      "|036305601  1| 2.0| 7.0| 1.0| 0.0|10.0| 4.0| 4.0| 2.0| 3.0|          0|    1|\n",
      "|042300401  3| 1.0| 8.0| 1.0| 0.0|10.0| 5.0| 3.0| 2.0| 2.0|          1|    1|\n",
      "|043903401  1| 4.0| 8.0| 1.0| 2.0|10.0| 2.0| 5.0| 2.0| 4.0|          0|    1|\n",
      "+------------+----+----+----+----+----+----+----+----+----+-----------+-----+\n",
      "only showing top 20 rows\n",
      "\n"
     ]
    }
   ],
   "source": [
    "#Integrar, selecconando, limpiando, transformando o formateano\n",
    "\"\"\"\n",
    "\"\"\"\n",
    "df_f1 = spark.sql(\"SELECT p.CASEID, \"\n",
    "     \"V013, V101, V102, V103, V131, V136, V149, V155, V190 \"\n",
    "     \",CASE (select sum (D115B+ D115C) FROM MOD73_2018 as tb where tb.CASEID= c.CASEID)  \"\n",
    "     \" WHEN 0 THEN 0 ELSE 1 END AS MALTxFATHER \"\n",
    "     \",CASE (select sum (D105A + D105B + D105C + D105D+ D105E+ D105F+ D105G+ D105H+ D105I) from MOD73_2018 as tb \"             \n",
    "     \" where tb.CASEID= c.CASEID) WHEN 0 THEN 0 ELSE 1 \"\n",
    "     \" END AS PhisV \"\n",
    "     \"FROM MOD66_2018 as p \"\n",
    "     \"inner join MOD73_2018  as c on p.CASEID= c.CASEID \"\n",
    "     \"WHERE (D115B IS NOT NULL) AND (D115C IS NOT NULL)  \"\n",
    "    \"\") \n",
    "print(df_f1.count())\n",
    "df_f1.show()"
   ]
  },
  {
   "cell_type": "code",
   "execution_count": null,
   "metadata": {},
   "outputs": [],
   "source": []
  }
 ],
 "metadata": {
  "kernelspec": {
   "display_name": "Python 3",
   "language": "python",
   "name": "python3"
  },
  "language_info": {
   "codemirror_mode": {
    "name": "ipython",
    "version": 3
   },
   "file_extension": ".py",
   "mimetype": "text/x-python",
   "name": "python",
   "nbconvert_exporter": "python",
   "pygments_lexer": "ipython3",
   "version": "3.7.6"
  }
 },
 "nbformat": 4,
 "nbformat_minor": 4
}
